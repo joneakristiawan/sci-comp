{
 "cells": [
  {
   "cell_type": "markdown",
   "id": "1ccb0ce7",
   "metadata": {},
   "source": [
    "# LINEAR EQUATION\n",
    "\n",
    "1. Diberikan sistem persamaan linier 4 variabel.\n",
    "2. Periksa apakah matriks koefisien bersifat **dominasi diagonal** secara programatik.\n",
    "3. Jika **tidak dominan diagonal**, tampilkan pesan kesalahan.\n",
    "4. Jika **dominan diagonal**, gunakan metode **Gauss-Seidel** dengan:\n",
    "    - Maksimal iterasi: 20\n",
    "    - Nilai awal semua variabel: **0**\n",
    "    - Ambang batas konvergensi **ϵ = 0.0xx**, di mana `xx` adalah dua digit jam saat pengerjaan.\n",
    "    \n",
    "    *misal\n",
    "    Pukul : 20:02\n",
    "    **ϵ = 0.002**"
   ]
  },
  {
   "cell_type": "code",
   "execution_count": 1,
   "id": "524ef297",
   "metadata": {},
   "outputs": [],
   "source": [
    "import numpy as np\n",
    "import matplotlib.pyplot as plt"
   ]
  },
  {
   "cell_type": "code",
   "execution_count": 2,
   "id": "12ad2da7",
   "metadata": {},
   "outputs": [
    {
     "name": "stdout",
     "output_type": "stream",
     "text": [
      "Matrix #1:\n",
      "Iteration 1: [ 1.25        1.79166667 -0.16666667]\n",
      "Iteration 2: [0.39583333 2.01736111 0.07638889]\n",
      "Iteration 3: [0.22222222 1.92476852 0.19502315]\n",
      "Iteration 4: [0.23885995 1.86267843 0.2191358 ]\n",
      "Iteration 5: [0.26387683 1.84645263 0.21682501]\n",
      "Converged\n",
      "[0.26387683 1.84645263 0.21682501]\n",
      "\n",
      "Matrix #2:\n",
      "Iteration 1: [ 1.75       -1.46428571 -0.95535714]\n",
      "Iteration 2: [ 0.81622024 -1.87064201 -0.36670033]\n",
      "Iteration 3: [ 0.6282338  -1.72930955 -0.22959833]\n",
      "Iteration 4: [ 0.7221029  -1.67672768 -0.28779591]\n",
      "Iteration 5: [ 0.74792586 -1.68966656 -0.30608945]\n",
      "Converged\n",
      "[ 0.74792586 -1.68966656 -0.30608945]\n",
      "\n",
      "Matrix #3:\n",
      "Iteration 1: [2.         0.28571429 0.42857143]\n",
      "Iteration 2: [1.10714286 0.20918367 0.99829932]\n",
      "Iteration 3: [0.14838435 0.20523567 1.63615565]\n",
      "Iteration 4: [-0.96589023  0.18330108  2.37169384]\n",
      "Iteration 5: [-2.24211477  0.16173213  3.21532056]\n",
      "Iteration 6: [-3.70767704  0.13622452  4.18385953]\n",
      "Iteration 7: [-5.38986645  0.10709976  5.29561089]\n",
      "Iteration 8: [-7.32086893  0.07363538  6.57179108]\n",
      "Iteration 9: [-9.53745208  0.03522845  8.03671087]\n",
      "Iteration 10: [-1.20818582e+01 -8.86005648e-03  9.71828548e+00]\n",
      "Iteration 11: [-15.00256956  -0.05946875  11.64855679]\n",
      "Iteration 12: [-18.35524     -0.11756229  13.8643059 ]\n",
      "Iteration 13: [-22.20375418  -0.18424758  16.4077536 ]\n",
      "Iteration 14: [-26.621445    -0.26079529  19.32736491]\n",
      "Iteration 15: [-31.69249094  -0.34866404  22.67877261]\n",
      "Iteration 16: [-37.51352005  -0.44952816  26.52583732]\n",
      "Iteration 17: [-44.19545122  -0.56530959  30.94186429]\n",
      "Iteration 18: [-51.86560771  -0.69821453  36.0110003 ]\n",
      "Iteration 19: [-60.67014326  -0.85077547  41.82983702]\n",
      "Iteration 20: [-70.77682704  -1.02589944  48.50925155]\n",
      "\n",
      "Matrix #4:\n",
      "Iteration 1: [0.5    0.1875 0.    ]\n",
      "Iteration 2: [0.47321429 0.19084821 0.01190476]\n",
      "Converged\n",
      "[0.47321429 0.19084821 0.01190476]\n",
      "\n",
      "Matrix #5:\n",
      "Iteration 1: [  4. -29. 468.]\n",
      "Iteration 2: [  -2717.   18844. -298431.]\n",
      "Iteration 3: [ 1.7340580e+06 -1.2025343e+07  1.9044531e+08]\n",
      "Iteration 4: [-1.10659583e+09  7.67401873e+09 -1.21533400e+11]\n",
      "Iteration 5: [ 7.06178342e+11 -4.89720428e+12  7.75570020e+13]\n",
      "Iteration 6: [-4.50650399e+14  3.12516957e+15 -4.94932962e+16]\n",
      "Iteration 7: [ 2.87584269e+17 -1.99433886e+18  3.15843355e+19]\n",
      "Iteration 8: [-1.83522996e+20  1.27269494e+21 -2.01556640e+22]\n",
      "Iteration 9: [ 1.17115899e+23 -8.12175125e+23  1.28624138e+25]\n",
      "Iteration 10: [-7.47379572e+25  5.18292649e+26 -8.20819833e+27]\n",
      "Iteration 11: [ 4.76943120e+28 -3.30750428e+29  5.23809303e+30]\n",
      "Iteration 12: [-3.04363069e+31  2.11069646e+32 -3.34270902e+33]\n",
      "Iteration 13: [ 1.94230452e+34 -1.34694898e+35  2.13316249e+36]\n",
      "Iteration 14: [-1.23948903e+37  8.59560625e+37 -1.36128577e+39]\n",
      "Iteration 15: [ 7.90984644e+39 -5.48531887e+40  8.68709700e+41]\n",
      "Iteration 16: [-5.04769863e+42  3.50047713e+43 -5.54370404e+44]\n",
      "Iteration 17: [ 3.22120811e+45 -2.23384281e+46  3.53773585e+47]\n",
      "Iteration 18: [-2.05562622e+48  1.42553530e+49 -2.25761961e+50]\n",
      "Iteration 19: [ 1.31180570e+51 -9.09710782e+51  1.44070855e+53]\n",
      "Iteration 20: [-8.37133807e+53  5.80535400e+54 -9.19393650e+55]\n",
      "\n"
     ]
    }
   ],
   "source": [
    "Xs = [\n",
    "    [\n",
    "        [8, 4, 2],\n",
    "        [1, 6, 3],\n",
    "        [5, 6, 12]\n",
    "    ],\n",
    "    [\n",
    "        [12, -7, -1],\n",
    "        [1, -7, 2],\n",
    "        [8, -1, 12]\n",
    "    ],\n",
    "    [\n",
    "        [4, 2, 7],\n",
    "        [3, -7, 5],\n",
    "        [2, -1, 3]\n",
    "    ],\n",
    "    [   \n",
    "        [14, 2, 1],\n",
    "        [1, 8, 4],\n",
    "        [9, 8, 18]\n",
    "    ],\n",
    "    [   \n",
    "        [1, 3, 6],\n",
    "        [9, 1, 12],\n",
    "        [15, 18, 1]\n",
    "    ]\n",
    "]\n",
    "Ys = [\n",
    "    [10, 12, 15],\n",
    "    [21, 12, 4],\n",
    "    [8, 4, 5],\n",
    "    [7, 2, 6],\n",
    "    [4, 7, 6]\n",
    "]\n",
    "\n",
    "def diagonal_dominant(x):\n",
    "    x = np.array(x)\n",
    "    diag = np.diag(np.abs(x))\n",
    "    off_diag = np.sum(np.abs(x), axis = 1) - diag\n",
    "    result = np.all(diag > off_diag)\n",
    "    return result\n",
    "\n",
    "def gauss_seidel(matrix_id, x, y, tolerance = 0.041, iter = 20):\n",
    "    print(f\"Matrix #{matrix_id}:\")\n",
    "    if not (diagonal_dominant):\n",
    "        print(\"Not diagonally dominant\")\n",
    "        return\n",
    "\n",
    "    x = np.array(x)\n",
    "    y = np.array(y)\n",
    "\n",
    "    diag = np.diag(x)\n",
    "    x = -x\n",
    "    np.fill_diagonal(x, 0)\n",
    "\n",
    "    old_x = np.zeros(len(x[0]))\n",
    "\n",
    "    for i in range(iter):\n",
    "        new_x = np.array(old_x)\n",
    "\n",
    "        for idx, row in enumerate(x):\n",
    "            new_x[idx] = (y[idx] + np.dot(row, new_x)) / diag[idx]\n",
    "\n",
    "        print(f\"Iteration {i + 1}: {new_x}\")\n",
    "\n",
    "        distance = np.sqrt(np.dot(old_x - new_x, old_x - new_x))\n",
    "\n",
    "        if distance < tolerance:\n",
    "            print(\"Converged\")\n",
    "            print(f\"{new_x}\")\n",
    "            return new_x\n",
    "\n",
    "        old_x = new_x\n",
    "for i in range(len(Xs)):\n",
    "    gauss_seidel(i+1, Xs[i], Ys[i])\n",
    "    print()"
   ]
  },
  {
   "cell_type": "markdown",
   "id": "4342cfde",
   "metadata": {},
   "source": [
    "# REGRESSION & PLOTTING\n",
    "\n",
    "Create a Least Square Regression from the matrix (x, y) in snippet below, then print the value of ‘m’ and ‘c’ from the formula of “y = mx + c”. Lastly, Show the original matrix and the result of Least Square Regression in one plot using matplotlib (with legend)."
   ]
  },
  {
   "cell_type": "code",
   "execution_count": null,
   "id": "ad8d7b61",
   "metadata": {},
   "outputs": [
    {
     "name": "stdout",
     "output_type": "stream",
     "text": [
      "m = 0.4863992308478565\n",
      "c = 4.955208076097511\n"
     ]
    },
    {
     "name": "stderr",
     "output_type": "stream",
     "text": [
      "C:\\Users\\jonea\\AppData\\Local\\Temp\\ipykernel_4596\\678927416.py:25: UserWarning: No artists with labels found to put in legend.  Note that artists whose label start with an underscore are ignored when legend() is called with no argument.\n",
      "  plt.legend()\n"
     ]
    },
    {
     "data": {
      "image/png": "[encoded data removed]",
      "text/plain": [
       "<Figure size 640x480 with 1 Axes>"
      ]
     },
     "metadata": {},
     "output_type": "display_data"
    }
   ],
   "source": [
    "x = [1.00, 1.39, 1.78, 2.16, 2.55, 2.94, 3.33, 3.71, 4.10, 4.49, 4.88, 5.27, 5.65, 6.04, 6.43, 6.82, 7.20, 7.59, 7.98, 8.37, 8.76, 9.14, 9.53, 9.92, 10.31, 10.69, 11.08, 11.47, 11.86, 12.24, 12.63, 13.02, 13.41, 13.80, 14.18, 14.57, 14.96, 15.35, 15.73, 16.12, 16.51, 16.90, 17.29, 17.67, 18.06, 18.45, 18.84, 19.22, 19.61, 20.00]\n",
    "\n",
    "y = [5.97, 5.95, 6.13, 6.41, 6.57, 6.30, 5.31, 6.90, 7.30, 7.22, 6.15, 7.77, 7.84, 8.24, 7.05, 8.61, 8.83, 8.87, 8.67, 9.63, 8.24, 8.76, 9.06, 8.80, 10.88, 10.83, 9.71, 10.63, 11.33, 10.61, 12.04, 10.51, 12.20, 11.40, 11.07, 11.50, 12.98, 12.56, 12.44, 12.57, 12.36, 13.32, 14.22, 14.01, 14.42, 13.48, 15.14, 13.92, 13.97, 14.44]\n",
    "\n",
    "x = np.array(x)\n",
    "y = np.array(y)\n",
    "\n",
    "A = np.vstack([x, np.ones(len(x))]).T\n",
    "Y = y[:, np.newaxis]\n",
    "\n",
    "alpha = np.linalg.inv(np.dot(A.T,A))\n",
    "alpha = np.dot(alpha, A.T)\n",
    "alpha = np.dot(alpha, Y)\n",
    "\n",
    "m, c = alpha[0,0], alpha[1,0]\n",
    "\n",
    "print(f\"m = {m}\")\n",
    "print(f\"c = {c}\")\n",
    "\n",
    "plt.plot(x, y, \"ro\")\n",
    "plt.plot(x, m * x + c, \"-b\")\n",
    "plt.xlabel(\"x\")\n",
    "plt.ylabel(\"y\")\n",
    "plt.title(\"Least Square Regression\")\n",
    "plt.show()"
   ]
  },
  {
   "cell_type": "markdown",
   "id": "462ddfdd",
   "metadata": {},
   "source": [
    "# NEWTON RAPHSON\n",
    "\n",
    "Find the root of the equation from the equation f(x) below by using **Newton Raphson** method:\n",
    "\n",
    "```yaml\n",
    "f(x): 8x5 - 10x4 + x3 + 2x2 + 9x + 13\n",
    "```\n",
    "\n",
    "- How many **iterations** are required to find the root of the equation?\n",
    "- With first guess of the value is 5\n",
    "- With **tolerate error** is **0xx** with **xx** are the last digits of your NIM (e.g., 25012345**31**, then the last digits of the NIM are **31**)\n",
    "- With the number of the **max iterations** is **50**"
   ]
  },
  {
   "cell_type": "code",
   "execution_count": 4,
   "id": "74090302",
   "metadata": {},
   "outputs": [
    {
     "name": "stdout",
     "output_type": "stream",
     "text": [
      "Iteration 1 new root = 6222.481179853152\n",
      "Iteration 2 new root = 2043.9810140901118\n",
      "Iteration 3 new root = 675.8992597658637\n",
      "Iteration 4 new root = 227.9872034829438\n",
      "Iteration 5 new root = 81.44762654085406\n",
      "Iteration 6 new root = 34.11425389565164\n",
      "Iteration 7 new root = 19.87616283777354\n",
      "Iteration 8 new root = -78.31604437806634\n",
      "Iteration 9 new root = -23.693632453780026\n",
      "Iteration 10 new root = -5.962879571372206\n",
      "Iteration 11 new root = -0.8525663225958588\n",
      "Iteration 12 new root = -0.026922346068094072\n",
      "Iteration 13 new root = -2.9386997466573916e-05\n",
      "Final root answer is -2.9386997466573916e-05\n",
      "-2.9386997466573916e-05\n"
     ]
    }
   ],
   "source": [
    "def f(x):\n",
    "    return 8 * (x ** 5) - 10 * (x ** 4) + (x ** 3) + 2 * (x ** 2) + 9 * x + 13\n",
    "\n",
    "def g(x):\n",
    "    return 40 * (x ** 4) - 40 * (x ** 3) + 3 * (x ** 2) + 4 * x + 9\n",
    "\n",
    "def newton_raphson(x0, tolerance = 0.0050, iter = 50, cur_iter = 1):\n",
    "    x1 = x0 - f(x0) / g(x0)\n",
    "    fx1 = f(x1)\n",
    "\n",
    "    print(f\"Iteration {cur_iter} new root = {fx1}\")\n",
    "\n",
    "    if (np.abs(fx1) < tolerance):\n",
    "        print(f\"Final root answer is {fx1}\")\n",
    "        print(f\"{fx1}\")\n",
    "        return\n",
    "    else:\n",
    "        newton_raphson(x1, tolerance, iter, cur_iter + 1)\n",
    "newton_raphson(5)"
   ]
  },
  {
   "cell_type": "markdown",
   "id": "d3588ff8",
   "metadata": {},
   "source": [
    "# INTEGRAL RIEMANN\n",
    "\n",
    "### **Exercise**\n",
    "\n",
    "Use the **Right Riemann** and **Middle Riemann** Integral to find the approximate of  \n",
    "\n",
    "$$\n",
    "\\int_{5}^{15}\\bigl(40x^4 - 40x^3 + 3x^2 + 4x - 9\\bigr)\\,dx\n",
    "$$\n",
    "\n",
    "With 6**0000 evenly spaced grid points** over the whole interval."
   ]
  },
  {
   "cell_type": "code",
   "execution_count": 5,
   "id": "0746c417",
   "metadata": {},
   "outputs": [
    {
     "name": "stdout",
     "output_type": "stream",
     "text": [
      "Mid Riemann: 5553559.999425837\n",
      "Left Riemann: 5553404.111883503\n",
      "Right Riemann: 5553715.890413146\n"
     ]
    }
   ],
   "source": [
    "def f(x):\n",
    "    return 40 * (x ** 4) - 40 * (x ** 3) + 3 * (x ** 2) + 4 * x - 9\n",
    "\n",
    "\n",
    "a = 5\n",
    "b = 15\n",
    "n = 60000\n",
    "\n",
    "width = (b - a) / (n - 1)\n",
    "\n",
    "x = np.linspace(a, b, n)\n",
    "y = f(x)\n",
    "\n",
    "x_mid = (x[:-1] + x[1:]) / 2\n",
    "y_mid = f(x_mid)\n",
    "\n",
    "mid_riemann = width * np.sum(y_mid)\n",
    "print(f\"Mid Riemann: {mid_riemann}\")\n",
    "\n",
    "# BONUS - Left & Right Riemann\n",
    "\n",
    "left_riemann = width * np.sum(y[:-1])\n",
    "print(f\"Left Riemann: {left_riemann}\")\n",
    "\n",
    "right_riemann = width * np.sum(y[1:])\n",
    "print(f\"Right Riemann: {right_riemann}\")"
   ]
  }
 ],
 "metadata": {
  "kernelspec": {
   "display_name": "sciComp",
   "language": "python",
   "name": "python3"
  },
  "language_info": {
   "codemirror_mode": {
    "name": "ipython",
    "version": 3
   },
   "file_extension": ".py",
   "mimetype": "text/x-python",
   "name": "python",
   "nbconvert_exporter": "python",
   "pygments_lexer": "ipython3",
   "version": "3.12.7"
  }
 },
 "nbformat": 4,
 "nbformat_minor": 5
}
